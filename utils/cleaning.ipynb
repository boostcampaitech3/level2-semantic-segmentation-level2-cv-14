{
 "cells": [
  {
   "cell_type": "code",
   "execution_count": 31,
   "metadata": {},
   "outputs": [],
   "source": [
    "import json\n",
    "import os\n",
    "import random\n",
    "import glob"
   ]
  },
  {
   "cell_type": "code",
   "execution_count": 90,
   "metadata": {},
   "outputs": [],
   "source": [
    "input_json = '/opt/ml/main/level2-semantic-segmentation-level2-cv-14/data/train.json'\n",
    "output_dir = '/opt/ml/main/level2-semantic-segmentation-level2-cv-14/data/train_clean0.json'"
   ]
  },
  {
   "cell_type": "code",
   "execution_count": 115,
   "metadata": {},
   "outputs": [],
   "source": [
    "with open(input_json) as json_reader:\n",
    "    dataset = json.load(json_reader)\n",
    "\n",
    "images = dataset['images']\n",
    "annotations = dataset['annotations']\n",
    "categories = dataset['categories'] "
   ]
  },
  {
   "cell_type": "code",
   "execution_count": 123,
   "metadata": {},
   "outputs": [],
   "source": [
    "def del_image(name):\n",
    "    i = 0\n",
    "    for i in range(len(images)):\n",
    "        if images[i]['file_name'] == name:\n",
    "            break\n",
    "    images.pop(i)\n",
    "\n",
    "    for j in range(len(annotations)):\n",
    "        if annotations[j]['image_id'] == i:\n",
    "            break\n",
    "        j += 1\n",
    "\n",
    "    while annotations[j]['image_id'] == i:\n",
    "        annotations.pop(j)\n",
    "    \n",
    "    print(f\"Finished (Image name: {name})\")"
   ]
  },
  {
   "cell_type": "code",
   "execution_count": 124,
   "metadata": {},
   "outputs": [],
   "source": [
    "del_list = ['batch_03/0702.jpg', ]"
   ]
  },
  {
   "cell_type": "code",
   "execution_count": 125,
   "metadata": {},
   "outputs": [
    {
     "name": "stdout",
     "output_type": "stream",
     "text": [
      "Finished (Image name: batch_03/0702.jpg)\n"
     ]
    }
   ],
   "source": [
    "for dl in del_list:\n",
    "    del_image(dl)"
   ]
  },
  {
   "cell_type": "code",
   "execution_count": null,
   "metadata": {},
   "outputs": [],
   "source": [
    "new_json = {\n",
    "    'images': images,\n",
    "    'annotations': annotations,\n",
    "    'categories': categories\n",
    "}\n",
    "with open(output_dir, 'w') as writer:\n",
    "    json.dump(new_json, writer)"
   ]
  }
 ],
 "metadata": {
  "interpreter": {
   "hash": "5d0c2b1480244832d7dbf237984b0f05a268e3e22e4477542a885f8374c01bd9"
  },
  "kernelspec": {
   "display_name": "Python 3.10.4 ('open-mmlab')",
   "language": "python",
   "name": "python3"
  },
  "language_info": {
   "codemirror_mode": {
    "name": "ipython",
    "version": 3
   },
   "file_extension": ".py",
   "mimetype": "text/x-python",
   "name": "python",
   "nbconvert_exporter": "python",
   "pygments_lexer": "ipython3",
   "version": "3.10.4"
  },
  "orig_nbformat": 4
 },
 "nbformat": 4,
 "nbformat_minor": 2
}
